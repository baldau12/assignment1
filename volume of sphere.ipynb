{
 "cells": [
  {
   "cell_type": "markdown",
   "metadata": {},
   "source": [
    "# volume of spher"
   ]
  },
  {
   "cell_type": "code",
   "execution_count": 1,
   "metadata": {},
   "outputs": [
    {
     "name": "stdout",
     "output_type": "stream",
     "text": [
      "volume of spher with d=12\n",
      "volume of spher with d=12 is  905.142857142857\n"
     ]
    }
   ],
   "source": [
    "print(\"volume of spher with d=12\")\n",
    "d=12\n",
    "pi=22/7\n",
    "res=(4/3)*pi*(d/2)**3\n",
    "print(\"volume of spher with d=12 is \",float(res))"
   ]
  },
  {
   "cell_type": "code",
   "execution_count": null,
   "metadata": {},
   "outputs": [],
   "source": []
  }
 ],
 "metadata": {
  "kernelspec": {
   "display_name": "Python 3",
   "language": "python",
   "name": "python3"
  },
  "language_info": {
   "codemirror_mode": {
    "name": "ipython",
    "version": 3
   },
   "file_extension": ".py",
   "mimetype": "text/x-python",
   "name": "python",
   "nbconvert_exporter": "python",
   "pygments_lexer": "ipython3",
   "version": "3.7.6"
  }
 },
 "nbformat": 4,
 "nbformat_minor": 4
}
